{
 "cells": [
  {
   "cell_type": "code",
   "execution_count": 2,
   "id": "26dac630-eca1-46da-a895-db614b28675e",
   "metadata": {},
   "outputs": [
    {
     "data": {
      "text/plain": [
       "'1.2.2'"
      ]
     },
     "execution_count": 2,
     "metadata": {},
     "output_type": "execute_result"
    }
   ],
   "source": [
    "import sklearn as sl\n",
    "import warnings\n",
    "warnings.filterwarnings(\"ignore\")\n",
    "sl.__version__"
   ]
  },
  {
   "cell_type": "code",
   "execution_count": 3,
   "id": "ba79b609-4cb0-47c4-b975-a54e872c94db",
   "metadata": {},
   "outputs": [],
   "source": [
    "from pandas import read_csv\n",
    "\n",
    "# Carregando os dados\n",
    "arquivo = 'dados/pima-data-banceled.csv'\n",
    "dados = read_csv(arquivo)"
   ]
  },
  {
   "cell_type": "code",
   "execution_count": 4,
   "id": "61131404-6d65-44c7-b0ba-4d0344743cb2",
   "metadata": {},
   "outputs": [
    {
     "data": {
      "text/plain": [
       "class\n",
       "0    268\n",
       "1    268\n",
       "dtype: int64"
      ]
     },
     "execution_count": 4,
     "metadata": {},
     "output_type": "execute_result"
    }
   ],
   "source": [
    "# Distribuição das classes\n",
    "dados.groupby('class').size()"
   ]
  },
  {
   "cell_type": "code",
   "execution_count": 5,
   "id": "3c1aec52-b632-439e-a905-8617a12dca28",
   "metadata": {},
   "outputs": [],
   "source": [
    "# Import dos módulos\n",
    "from pandas import read_csv\n",
    "import matplotlib.pyplot as plt\n",
    "from sklearn.model_selection import KFold\n",
    "from sklearn.model_selection import cross_val_score\n",
    "from sklearn.linear_model import LogisticRegression\n",
    "from sklearn.tree import DecisionTreeClassifier\n",
    "from sklearn.neighbors import KNeighborsClassifier\n",
    "from sklearn.discriminant_analysis import LinearDiscriminantAnalysis\n",
    "from sklearn.ensemble import RandomForestClassifier\n",
    "from sklearn.naive_bayes import GaussianNB\n",
    "from sklearn.svm import SVC\n",
    "import csv"
   ]
  },
  {
   "cell_type": "code",
   "execution_count": 6,
   "id": "bae41a1c-00ac-4a34-83f6-f20f813bba00",
   "metadata": {},
   "outputs": [],
   "source": [
    "# Separando o array em componentes de input e output\n",
    "array = dados.values\n",
    "X = array[:,0:8]\n",
    "Y = array[:,9]"
   ]
  },
  {
   "cell_type": "code",
   "execution_count": 7,
   "id": "3a445275-7910-4e52-8273-4cc47bd94ed2",
   "metadata": {
    "scrolled": true
   },
   "outputs": [
    {
     "name": "stdout",
     "output_type": "stream",
     "text": [
      "Dados Originais: \n",
      "\n",
      " [[5.71e+02 2.00e+00 1.30e+02 ... 2.68e-01 2.10e+01 0.00e+00]\n",
      " [3.58e+02 1.20e+01 8.80e+01 ... 3.78e-01 4.80e+01 0.00e+00]\n",
      " [3.74e+02 2.00e+00 1.22e+02 ... 8.16e-01 2.80e+01 0.00e+00]\n",
      " ...\n",
      " [7.59e+02 6.00e+00 1.90e+02 ... 2.78e-01 6.60e+01 1.00e+00]\n",
      " [7.61e+02 9.00e+00 1.70e+02 ... 4.03e-01 4.30e+01 1.00e+00]\n",
      " [7.66e+02 1.00e+00 1.26e+02 ... 3.49e-01 4.70e+01 1.00e+00]]\n",
      "\n",
      "Dados Normalizados: \n",
      "\n",
      " [[9.61503172e-01 3.36778694e-03 2.18906151e-01 1.61653773e-01\n",
      "  0.00000000e+00 0.00000000e+00 3.80559925e-02 4.51283450e-04]\n",
      " [9.32816141e-01 3.12675801e-02 2.29295588e-01 1.92816744e-01\n",
      "  1.04225267e-01 1.40704111e-01 9.19787982e-02 9.84928774e-04]\n",
      " [8.68144169e-01 4.64248219e-03 2.83191413e-01 1.20704537e-01\n",
      "  9.98133670e-02 3.66756093e-01 8.40289275e-02 1.89413273e-03]\n",
      " [8.86299721e-01 1.03863249e-02 3.84294020e-01 1.93878064e-01\n",
      "  1.35022223e-01 0.00000000e+00 1.04209459e-01 1.92839432e-03]\n",
      " [8.64364360e-01 3.47134281e-03 3.85319052e-01 2.98535482e-01\n",
      "  6.59555134e-02 0.00000000e+00 1.04487419e-01 4.96402022e-04]]\n"
     ]
    }
   ],
   "source": [
    "from sklearn.preprocessing import Normalizer\n",
    "\n",
    "# Gerando a nova escala (normalizando os dados)\n",
    "scaler = Normalizer().fit(X)\n",
    "normalizedX = scaler.transform(X)\n",
    "\n",
    "# Sumarizando os dados transformados\n",
    "print(\"Dados Originais: \\n\\n\", dados.values)\n",
    "print(\"\\nDados Normalizados: \\n\\n\", normalizedX[0:5,:])"
   ]
  },
  {
   "cell_type": "code",
   "execution_count": 8,
   "id": "eb500217-be15-463b-9efe-b99371f813f4",
   "metadata": {},
   "outputs": [],
   "source": [
    "X = normalizedX"
   ]
  },
  {
   "cell_type": "code",
   "execution_count": 9,
   "id": "fd081f21-ba43-4503-a758-a947104458fe",
   "metadata": {},
   "outputs": [
    {
     "data": {
      "text/plain": [
       "array([[9.61503172e-01, 3.36778694e-03, 2.18906151e-01, ...,\n",
       "        0.00000000e+00, 3.80559925e-02, 4.51283450e-04],\n",
       "       [9.32816141e-01, 3.12675801e-02, 2.29295588e-01, ...,\n",
       "        1.40704111e-01, 9.19787982e-02, 9.84928774e-04],\n",
       "       [8.68144169e-01, 4.64248219e-03, 2.83191413e-01, ...,\n",
       "        3.66756093e-01, 8.40289275e-02, 1.89413273e-03],\n",
       "       ...,\n",
       "       [9.62425381e-01, 7.60810578e-03, 2.40923350e-01, ...,\n",
       "        0.00000000e+00, 4.50146259e-02, 3.52508901e-04],\n",
       "       [9.69230037e-01, 1.14626417e-02, 2.16516566e-01, ...,\n",
       "        0.00000000e+00, 5.60395817e-02, 5.13271623e-04],\n",
       "       [9.83070484e-01, 1.28338183e-03, 1.61706111e-01, ...,\n",
       "        0.00000000e+00, 3.86297932e-02, 4.47900260e-04]])"
      ]
     },
     "execution_count": 9,
     "metadata": {},
     "output_type": "execute_result"
    }
   ],
   "source": [
    "normalizedX"
   ]
  },
  {
   "cell_type": "code",
   "execution_count": 11,
   "id": "084d9d3b-fcc0-4650-8556-4282d3734e12",
   "metadata": {
    "scrolled": true
   },
   "outputs": [
    {
     "name": "stdout",
     "output_type": "stream",
     "text": [
      "LR - LogisticRegression(): 0.608316 (0.049903)\n",
      "LDA - LinearDiscriminantAnalysis(): 0.627079 (0.049778)\n",
      "NB - GaussianNB(): 0.572781 (0.047186)\n",
      "KNN - KNeighborsClassifier(): 0.651258 (0.031743)\n",
      "CART - DecisionTreeClassifier(): 0.572676 (0.032765)\n",
      "SVM - SVC(): 0.632739 (0.043508)\n"
     ]
    }
   ],
   "source": [
    "# Definindo os valores para o número de folds\n",
    "num_folds = 10\n",
    "seed = 7\n",
    "\n",
    "# field names \n",
    "fields = ['Tipo','Modelo', 'Descrição Modelo', 'Acurária', 'Desvio'] \n",
    "    \n",
    "# Preparando a lista de modelos\n",
    "modelos = []\n",
    "modelos.append(('LR', LogisticRegression()))\n",
    "modelos.append(('KNN', KNeighborsClassifier()))\n",
    "modelos.append(('CART', DecisionTreeClassifier()))\n",
    "modelos.append(('SVM', SVC()))\n",
    "modelos.append(('RF', RandomForestClassifier(n_estimators=100)))\n",
    "\n",
    "# Avaliando cada modelo em um loop\n",
    "resultados = []\n",
    "nomes = []\n",
    "\n",
    "with open('resultados/resultados.csv', 'a') as f:\n",
    "    # using csv.writer method from CSV package\n",
    "    write = csv.writer(f)\n",
    "    #write.writerow(fields)\n",
    "\n",
    "    # Construção dos Modelos\n",
    "    for nome, modelo in modelos:\n",
    "        kfold = KFold(n_splits = num_folds, shuffle=True, random_state = seed)\n",
    "        cv_results = cross_val_score(modelo, X, Y, cv = kfold, scoring = 'accuracy')\n",
    "        resultados.append(cv_results)\n",
    "        nomes.append(nome)\n",
    "        msg = \"%s - %s: %f (%f)\" % (nome, modelo, cv_results.mean(), cv_results.std())\n",
    "        print(msg)\n",
    "\n",
    "        # data rows of csv file \n",
    "        rows = [['Normalizer', nome, modelo, cv_results.mean(), cv_results.std() ] ]\n",
    "        write.writerows(rows)\n",
    "    \n",
    "    # Close the file object\n",
    "    f.close()\n"
   ]
  },
  {
   "cell_type": "code",
   "execution_count": 12,
   "id": "7c88d4d7-c757-4fd0-811d-accadd3dbb25",
   "metadata": {},
   "outputs": [
    {
     "data": {
      "image/png": "[encoded data removed]",
      "text/plain": [
       "<Figure size 640x480 with 1 Axes>"
      ]
     },
     "metadata": {},
     "output_type": "display_data"
    }
   ],
   "source": [
    "# Boxplot para comparar os algoritmos\n",
    "fig = plt.figure()\n",
    "fig.suptitle('Comparação de Algoritmos de Classificação')\n",
    "ax = fig.add_subplot(111)\n",
    "plt.boxplot(resultados)\n",
    "ax.set_xticklabels(nomes)\n",
    "\n",
    "plt.savefig(\"graficos/Normalizacao_Normalizer.png\")\n",
    "\n",
    "plt.show()"
   ]
  },
  {
   "cell_type": "code",
   "execution_count": null,
   "id": "efc73474-7741-4c92-9050-3043534c8e90",
   "metadata": {},
   "outputs": [],
   "source": []
  }
 ],
 "metadata": {
  "kernelspec": {
   "display_name": "Python 3 (ipykernel)",
   "language": "python",
   "name": "python3"
  },
  "language_info": {
   "codemirror_mode": {
    "name": "ipython",
    "version": 3
   },
   "file_extension": ".py",
   "mimetype": "text/x-python",
   "name": "python",
   "nbconvert_exporter": "python",
   "pygments_lexer": "ipython3",
   "version": "3.11.4"
  }
 },
 "nbformat": 4,
 "nbformat_minor": 5
}
