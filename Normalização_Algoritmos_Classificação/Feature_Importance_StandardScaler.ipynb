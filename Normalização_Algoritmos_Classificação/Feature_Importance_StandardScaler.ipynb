{
 "cells": [
  {
   "cell_type": "markdown",
   "id": "f43aba38-bb94-4f8a-8434-4f9ac441d826",
   "metadata": {},
   "source": [
    "# Feature Importance with Python - StandardScaler"
   ]
  },
  {
   "cell_type": "code",
   "execution_count": 1,
   "id": "26dac630-eca1-46da-a895-db614b28675e",
   "metadata": {},
   "outputs": [
    {
     "data": {
      "text/plain": [
       "'1.2.2'"
      ]
     },
     "execution_count": 1,
     "metadata": {},
     "output_type": "execute_result"
    }
   ],
   "source": [
    "import sklearn as sl\n",
    "import warnings\n",
    "warnings.filterwarnings(\"ignore\")\n",
    "sl.__version__"
   ]
  },
  {
   "cell_type": "code",
   "execution_count": 2,
   "id": "ba79b609-4cb0-47c4-b975-a54e872c94db",
   "metadata": {},
   "outputs": [],
   "source": [
    "from pandas import read_csv\n",
    "\n",
    "# Carregando os dados\n",
    "arquivo = 'dados/pima-data-banceled.csv'\n",
    "dados = read_csv(arquivo)"
   ]
  },
  {
   "cell_type": "code",
   "execution_count": 3,
   "id": "3c1aec52-b632-439e-a905-8617a12dca28",
   "metadata": {},
   "outputs": [],
   "source": [
    "# Import dos módulos\n",
    "from pandas import read_csv\n",
    "import matplotlib.pyplot as plt\n",
    "from sklearn.model_selection import KFold\n",
    "from sklearn.model_selection import cross_val_score\n",
    "from sklearn.linear_model import LogisticRegression\n",
    "from sklearn.tree import DecisionTreeClassifier\n",
    "from sklearn.neighbors import KNeighborsClassifier\n",
    "from sklearn.discriminant_analysis import LinearDiscriminantAnalysis\n",
    "from sklearn.ensemble import RandomForestClassifier\n",
    "from sklearn.naive_bayes import GaussianNB\n",
    "from sklearn.svm import SVC\n",
    "import csv"
   ]
  },
  {
   "cell_type": "code",
   "execution_count": 4,
   "id": "bae41a1c-00ac-4a34-83f6-f20f813bba00",
   "metadata": {},
   "outputs": [],
   "source": [
    "# Separando o array em componentes de input e output\n",
    "array = dados.values\n",
    "X = array[:,0:8]\n",
    "Y = array[:,9]"
   ]
  },
  {
   "cell_type": "code",
   "execution_count": 5,
   "id": "3a445275-7910-4e52-8273-4cc47bd94ed2",
   "metadata": {
    "scrolled": true
   },
   "outputs": [],
   "source": [
    "from sklearn.preprocessing import StandardScaler\n",
    "\n",
    "# Gerando o novo padrão\n",
    "scaler = StandardScaler().fit(X)\n",
    "standardX = scaler.transform(X)"
   ]
  },
  {
   "cell_type": "code",
   "execution_count": 6,
   "id": "eb500217-be15-463b-9efe-b99371f813f4",
   "metadata": {},
   "outputs": [],
   "source": [
    "X = standardX"
   ]
  },
  {
   "cell_type": "code",
   "execution_count": 7,
   "id": "212431d7-931b-430e-80a5-a0d7ee41df47",
   "metadata": {},
   "outputs": [
    {
     "name": "stdout",
     "output_type": "stream",
     "text": [
      "Feature: 0, Score: 8.93\n",
      "Feature: 1, Score: 8.51\n",
      "Feature: 2, Score: 38.40\n",
      "Feature: 3, Score: 6.56\n",
      "Feature: 4, Score: 3.73\n",
      "Feature: 5, Score: 5.01\n",
      "Feature: 6, Score: 16.44\n",
      "Feature: 7, Score: 12.43\n"
     ]
    }
   ],
   "source": [
    "model = DecisionTreeClassifier(random_state=8)\n",
    "# fit the model\n",
    "model.fit(X, Y)\n",
    "# get importance\n",
    "importance = model.feature_importances_\n",
    "# summarize feature importance\n",
    "for i,v in enumerate(importance):\n",
    " print('Feature: %0d, Score: %.2f' % (i,v*100))"
   ]
  },
  {
   "cell_type": "raw",
   "id": "4c90ccd0-ab66-48ee-9c3b-fb95cd2e30a5",
   "metadata": {},
   "source": [
    "Feature: 0 preg - Number of times pregnant\n",
    "Feature: 1 plas - Plasma glucose concentration a 2 hours in an oral glucose tolerance test\n",
    "Feature: 2 pres - Diastolic blood pressure (mm Hg)\n",
    "Feature: 3 skin - Triceps skin fold thickness (mm)\n",
    "Feature: 4 test - 2-Hour serum insulin (mu U/ml)\n",
    "Feature: 5 mass - Body mass index (weight in kg/(height in m)^2)\n",
    "Feature: 6 pedi - Diabetes pedigree function\n",
    "Feature: 7 age  - Age (years)"
   ]
  },
  {
   "cell_type": "code",
   "execution_count": 8,
   "id": "40613f12-1b50-4ca4-9bcb-e2c99b8c8b7a",
   "metadata": {},
   "outputs": [
    {
     "data": {
      "image/png": "[encoded data removed]",
      "text/plain": [
       "<Figure size 640x480 with 1 Axes>"
      ]
     },
     "metadata": {},
     "output_type": "display_data"
    }
   ],
   "source": [
    "from matplotlib import pyplot\n",
    "# plot feature importance\n",
    "pyplot.bar([x for x in range(len(importance))], importance)\n",
    "plt.title(\"Feature Importance\")\n",
    "pyplot.xlabel(\"Features\")\n",
    "pyplot.ylabel(\"Percentual\")\n",
    "pyplot.savefig(\"graficos/Feature_StandardScaler.png\")\n",
    "pyplot.show()"
   ]
  }
 ],
 "metadata": {
  "kernelspec": {
   "display_name": "Python 3 (ipykernel)",
   "language": "python",
   "name": "python3"
  },
  "language_info": {
   "codemirror_mode": {
    "name": "ipython",
    "version": 3
   },
   "file_extension": ".py",
   "mimetype": "text/x-python",
   "name": "python",
   "nbconvert_exporter": "python",
   "pygments_lexer": "ipython3",
   "version": "3.11.4"
  }
 },
 "nbformat": 4,
 "nbformat_minor": 5
}
