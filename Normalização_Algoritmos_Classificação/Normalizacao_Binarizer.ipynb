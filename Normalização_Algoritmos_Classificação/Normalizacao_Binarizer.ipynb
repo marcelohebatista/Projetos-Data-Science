{
 "cells": [
  {
   "cell_type": "code",
   "execution_count": 11,
   "id": "26dac630-eca1-46da-a895-db614b28675e",
   "metadata": {},
   "outputs": [
    {
     "data": {
      "text/plain": [
       "'1.2.2'"
      ]
     },
     "execution_count": 11,
     "metadata": {},
     "output_type": "execute_result"
    }
   ],
   "source": [
    "import sklearn as sl\n",
    "import warnings\n",
    "warnings.filterwarnings(\"ignore\")\n",
    "sl.__version__"
   ]
  },
  {
   "cell_type": "code",
   "execution_count": 12,
   "id": "ba79b609-4cb0-47c4-b975-a54e872c94db",
   "metadata": {},
   "outputs": [],
   "source": [
    "from pandas import read_csv\n",
    "\n",
    "# Carregando os dados\n",
    "arquivo = 'dados/pima-data-banceled.csv'\n",
    "dados = read_csv(arquivo)"
   ]
  },
  {
   "cell_type": "code",
   "execution_count": 13,
   "id": "61131404-6d65-44c7-b0ba-4d0344743cb2",
   "metadata": {},
   "outputs": [
    {
     "data": {
      "text/plain": [
       "class\n",
       "0    268\n",
       "1    268\n",
       "dtype: int64"
      ]
     },
     "execution_count": 13,
     "metadata": {},
     "output_type": "execute_result"
    }
   ],
   "source": [
    "# Distribuição das classes\n",
    "dados.groupby('class').size()"
   ]
  },
  {
   "cell_type": "code",
   "execution_count": 14,
   "id": "3c1aec52-b632-439e-a905-8617a12dca28",
   "metadata": {},
   "outputs": [],
   "source": [
    "# Import dos módulos\n",
    "from pandas import read_csv\n",
    "import matplotlib.pyplot as plt\n",
    "from sklearn.model_selection import KFold\n",
    "from sklearn.model_selection import cross_val_score\n",
    "from sklearn.linear_model import LogisticRegression\n",
    "from sklearn.tree import DecisionTreeClassifier\n",
    "from sklearn.neighbors import KNeighborsClassifier\n",
    "from sklearn.discriminant_analysis import LinearDiscriminantAnalysis\n",
    "from sklearn.ensemble import RandomForestClassifier\n",
    "from sklearn.naive_bayes import GaussianNB\n",
    "from sklearn.svm import SVC\n",
    "import csv"
   ]
  },
  {
   "cell_type": "code",
   "execution_count": 15,
   "id": "bae41a1c-00ac-4a34-83f6-f20f813bba00",
   "metadata": {},
   "outputs": [],
   "source": [
    "# Separando o array em componentes de input e output\n",
    "array = dados.values\n",
    "X = array[:,0:8]\n",
    "Y = array[:,9]"
   ]
  },
  {
   "cell_type": "code",
   "execution_count": 16,
   "id": "3a445275-7910-4e52-8273-4cc47bd94ed2",
   "metadata": {
    "scrolled": true
   },
   "outputs": [
    {
     "name": "stdout",
     "output_type": "stream",
     "text": [
      "Dados Originais: \n",
      "\n",
      " [[5.670e+02 6.000e+00 9.200e+01 ... 8.500e-02 4.600e+01 0.000e+00]\n",
      " [4.160e+02 1.000e+00 9.700e+01 ... 1.095e+00 2.200e+01 0.000e+00]\n",
      " [1.960e+02 1.000e+00 1.050e+02 ... 1.870e-01 2.100e+01 0.000e+00]\n",
      " ...\n",
      " [7.590e+02 6.000e+00 1.900e+02 ... 2.780e-01 6.600e+01 1.000e+00]\n",
      " [7.610e+02 9.000e+00 1.700e+02 ... 4.030e-01 4.300e+01 1.000e+00]\n",
      " [7.660e+02 1.000e+00 1.260e+02 ... 3.490e-01 4.700e+01 1.000e+00]]\n",
      "\n",
      "Dados Binarizados: \n",
      "\n",
      " [[1. 1. 1. 1. 1. 1. 1. 0.]\n",
      " [1. 1. 1. 1. 1. 0. 1. 1.]\n",
      " [1. 1. 1. 1. 0. 0. 1. 0.]\n",
      " [1. 1. 1. 1. 1. 1. 1. 1.]\n",
      " [1. 1. 1. 1. 0. 0. 1. 1.]]\n"
     ]
    }
   ],
   "source": [
    "from sklearn.preprocessing import Binarizer\n",
    "\n",
    "# Gerando a binarização\n",
    "binarizer = Binarizer(threshold = 0.2).fit(X)\n",
    "binaryX = binarizer.transform(X)\n",
    "\n",
    "# Sumarizando os dados transformados\n",
    "print(\"Dados Originais: \\n\\n\", dados.values)\n",
    "print(\"\\nDados Binarizados: \\n\\n\", binaryX[0:5,:])"
   ]
  },
  {
   "cell_type": "code",
   "execution_count": 17,
   "id": "eb500217-be15-463b-9efe-b99371f813f4",
   "metadata": {},
   "outputs": [],
   "source": [
    "X = binaryX"
   ]
  },
  {
   "cell_type": "code",
   "execution_count": 18,
   "id": "084d9d3b-fcc0-4650-8556-4282d3734e12",
   "metadata": {
    "scrolled": true
   },
   "outputs": [
    {
     "name": "stdout",
     "output_type": "stream",
     "text": [
      "LR - LogisticRegression(): 0.481027 (0.095547)\n",
      "KNN - KNeighborsClassifier(): 0.501922 (0.090138)\n",
      "CART - DecisionTreeClassifier(): 0.449371 (0.075159)\n",
      "SVM - SVC(): 0.460482 (0.086525)\n",
      "RF - RandomForestClassifier(): 0.456813 (0.057265)\n"
     ]
    }
   ],
   "source": [
    "# Definindo os valores para o número de folds\n",
    "num_folds = 10\n",
    "seed = 7\n",
    "\n",
    "# field names \n",
    "fields = ['Tipo','Modelo', 'Descrição Modelo', 'Acurária'] \n",
    "    \n",
    "# Preparando a lista de modelos\n",
    "modelos = []\n",
    "modelos.append(('LR', LogisticRegression()))\n",
    "modelos.append(('KNN', KNeighborsClassifier()))\n",
    "modelos.append(('CART', DecisionTreeClassifier()))\n",
    "modelos.append(('SVM', SVC()))\n",
    "modelos.append(('RF', RandomForestClassifier(n_estimators=100)))\n",
    "\n",
    "# Avaliando cada modelo em um loop\n",
    "resultados = []\n",
    "nomes = []\n",
    "\n",
    "with open('resultados/resultados.csv', 'a') as f:\n",
    "    # using csv.writer method from CSV package\n",
    "    write = csv.writer(f)\n",
    "    #write.writerow(fields)\n",
    "\n",
    "    # Construção dos Modelos\n",
    "    for nome, modelo in modelos:\n",
    "        kfold = KFold(n_splits = num_folds, shuffle=True, random_state = seed)\n",
    "        cv_results = cross_val_score(modelo, X, Y, cv = kfold, scoring = 'accuracy')\n",
    "        resultados.append(cv_results)\n",
    "        nomes.append(nome)\n",
    "        msg = \"%s - %s: %f (%f)\" % (nome, modelo, cv_results.mean(), cv_results.std())\n",
    "        print(msg)\n",
    "\n",
    "        # data rows of csv file \n",
    "        rows = [['Binarizer', nome, modelo, cv_results.mean(), cv_results.std() ] ]\n",
    "        write.writerows(rows)\n",
    "    \n",
    "    # Close the file object\n",
    "    f.close()\n"
   ]
  },
  {
   "cell_type": "code",
   "execution_count": 19,
   "id": "7c88d4d7-c757-4fd0-811d-accadd3dbb25",
   "metadata": {},
   "outputs": [
    {
     "data": {
      "image/png": "[encoded data removed]",
      "text/plain": [
       "<Figure size 640x480 with 1 Axes>"
      ]
     },
     "metadata": {},
     "output_type": "display_data"
    }
   ],
   "source": [
    "# Boxplot para comparar os algoritmos\n",
    "fig = plt.figure()\n",
    "fig.suptitle('Comparação de Algoritmos de Classificação')\n",
    "ax = fig.add_subplot(111)\n",
    "plt.boxplot(resultados)\n",
    "ax.set_xticklabels(nomes)\n",
    "\n",
    "plt.savefig(\"graficos/Normalizacao_Binarizer.png\")\n",
    "\n",
    "plt.show()"
   ]
  }
 ],
 "metadata": {
  "kernelspec": {
   "display_name": "Python 3 (ipykernel)",
   "language": "python",
   "name": "python3"
  },
  "language_info": {
   "codemirror_mode": {
    "name": "ipython",
    "version": 3
   },
   "file_extension": ".py",
   "mimetype": "text/x-python",
   "name": "python",
   "nbconvert_exporter": "python",
   "pygments_lexer": "ipython3",
   "version": "3.11.4"
  }
 },
 "nbformat": 4,
 "nbformat_minor": 5
}
