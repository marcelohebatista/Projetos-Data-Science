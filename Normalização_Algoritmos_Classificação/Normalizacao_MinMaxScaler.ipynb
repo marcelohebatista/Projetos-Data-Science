{
 "cells": [
  {
   "cell_type": "code",
   "execution_count": 37,
   "id": "26dac630-eca1-46da-a895-db614b28675e",
   "metadata": {},
   "outputs": [
    {
     "data": {
      "text/plain": [
       "'1.2.2'"
      ]
     },
     "execution_count": 37,
     "metadata": {},
     "output_type": "execute_result"
    }
   ],
   "source": [
    "import sklearn as sl\n",
    "import warnings\n",
    "warnings.filterwarnings(\"ignore\")\n",
    "sl.__version__"
   ]
  },
  {
   "cell_type": "code",
   "execution_count": 38,
   "id": "ba79b609-4cb0-47c4-b975-a54e872c94db",
   "metadata": {},
   "outputs": [],
   "source": [
    "from pandas import read_csv\n",
    "\n",
    "# Carregando os dados\n",
    "arquivo = 'dados/pima-data-banceled.csv'\n",
    "dados = read_csv(arquivo)"
   ]
  },
  {
   "cell_type": "code",
   "execution_count": 39,
   "id": "61131404-6d65-44c7-b0ba-4d0344743cb2",
   "metadata": {},
   "outputs": [
    {
     "data": {
      "text/plain": [
       "class\n",
       "0    268\n",
       "1    268\n",
       "dtype: int64"
      ]
     },
     "execution_count": 39,
     "metadata": {},
     "output_type": "execute_result"
    }
   ],
   "source": [
    "# Distribuição das classes\n",
    "dados.groupby('class').size()"
   ]
  },
  {
   "cell_type": "code",
   "execution_count": 40,
   "id": "3c1aec52-b632-439e-a905-8617a12dca28",
   "metadata": {},
   "outputs": [],
   "source": [
    "# Import dos módulos\n",
    "from pandas import read_csv\n",
    "import matplotlib.pyplot as plt\n",
    "from sklearn.model_selection import KFold\n",
    "from sklearn.model_selection import cross_val_score\n",
    "from sklearn.linear_model import LogisticRegression\n",
    "from sklearn.tree import DecisionTreeClassifier\n",
    "from sklearn.neighbors import KNeighborsClassifier\n",
    "from sklearn.discriminant_analysis import LinearDiscriminantAnalysis\n",
    "from sklearn.ensemble import RandomForestClassifier\n",
    "from sklearn.naive_bayes import GaussianNB\n",
    "from sklearn.svm import SVC\n",
    "import csv"
   ]
  },
  {
   "cell_type": "code",
   "execution_count": 41,
   "id": "bae41a1c-00ac-4a34-83f6-f20f813bba00",
   "metadata": {},
   "outputs": [],
   "source": [
    "# Separando o array em componentes de input e output\n",
    "array = dados.values\n",
    "X = array[:,0:8]\n",
    "Y = array[:,9]"
   ]
  },
  {
   "cell_type": "code",
   "execution_count": 42,
   "id": "3a445275-7910-4e52-8273-4cc47bd94ed2",
   "metadata": {
    "scrolled": true
   },
   "outputs": [
    {
     "name": "stdout",
     "output_type": "stream",
     "text": [
      "Dados Originais: \n",
      "\n",
      " [[5.71e+02 2.00e+00 1.30e+02 ... 2.68e-01 2.10e+01 0.00e+00]\n",
      " [3.58e+02 1.20e+01 8.80e+01 ... 3.78e-01 4.80e+01 0.00e+00]\n",
      " [3.74e+02 2.00e+00 1.22e+02 ... 8.16e-01 2.80e+01 0.00e+00]\n",
      " ...\n",
      " [7.59e+02 6.00e+00 1.90e+02 ... 2.78e-01 6.60e+01 1.00e+00]\n",
      " [7.61e+02 9.00e+00 1.70e+02 ... 4.03e-01 4.30e+01 1.00e+00]\n",
      " [7.66e+02 1.00e+00 1.26e+02 ... 3.49e-01 4.70e+01 1.00e+00]]\n",
      "\n",
      "Dados Normalizados: \n",
      "\n",
      " [[0.74543081 0.11764706 0.65326633 0.78688525 0.         0.\n",
      "  0.33681073 0.07876712]\n",
      " [0.46736292 0.70588235 0.44221106 0.60655738 0.4040404  0.06382979\n",
      "  0.52608048 0.12585616]\n",
      " [0.48825065 0.11764706 0.61306533 0.42622951 0.43434343 0.18676123\n",
      "  0.53949329 0.31335616]\n",
      " [0.33420366 0.17647059 0.55778894 0.45901639 0.39393939 0.\n",
      "  0.4485842  0.20248288]\n",
      " [0.32506527 0.05882353 0.55778894 0.70491803 0.19191919 0.\n",
      "  0.4485842  0.02525685]]\n"
     ]
    }
   ],
   "source": [
    "from sklearn.preprocessing import MinMaxScaler\n",
    "\n",
    "# Gerando a nova escala (normalizando os dados)\n",
    "scaler = MinMaxScaler(feature_range = (0, 1))\n",
    "rescaledX = scaler.fit_transform(X)\n",
    "\n",
    "# Sumarizando os dados transformados\n",
    "print(\"Dados Originais: \\n\\n\", dados.values)\n",
    "print(\"\\nDados Normalizados: \\n\\n\", rescaledX[0:5,:])"
   ]
  },
  {
   "cell_type": "code",
   "execution_count": 43,
   "id": "eb500217-be15-463b-9efe-b99371f813f4",
   "metadata": {},
   "outputs": [],
   "source": [
    "X = rescaledX"
   ]
  },
  {
   "cell_type": "code",
   "execution_count": 44,
   "id": "084d9d3b-fcc0-4650-8556-4282d3734e12",
   "metadata": {
    "scrolled": true
   },
   "outputs": [
    {
     "name": "stdout",
     "output_type": "stream",
     "text": [
      "LR - LogisticRegression(): 0.757566 (0.085721)\n",
      "LDA - LinearDiscriminantAnalysis(): 0.761323 (0.088714)\n",
      "KNN - KNeighborsClassifier(): 0.677302 (0.096245)\n",
      "CART - DecisionTreeClassifier(): 0.703598 (0.054530)\n",
      "SVM - SVC(): 0.750317 (0.089870)\n",
      "GNB - GaussianNB(): 0.740794 (0.075950)\n",
      "RF - RandomForestClassifier(): 0.755926 (0.074461)\n"
     ]
    }
   ],
   "source": [
    "# Definindo os valores para o número de folds\n",
    "num_folds = 10\n",
    "seed = 7\n",
    "\n",
    "# field names \n",
    "fields = ['Tipo','Modelo', 'Descrição Modelo', 'Acurária', 'Desvio'] \n",
    "    \n",
    "# Preparando a lista de modelos\n",
    "modelos = []\n",
    "modelos.append(('LR', LogisticRegression()))\n",
    "modelos.append(('KNN', KNeighborsClassifier()))\n",
    "modelos.append(('CART', DecisionTreeClassifier()))\n",
    "modelos.append(('SVM', SVC()))\n",
    "modelos.append(('RF', RandomForestClassifier(n_estimators=100)))\n",
    "\n",
    "# Avaliando cada modelo em um loop\n",
    "resultados = []\n",
    "nomes = []\n",
    "\n",
    "with open('resultados/resultados.csv', 'a') as f:\n",
    "    # using csv.writer method from CSV package\n",
    "    write = csv.writer(f)\n",
    "    #write.writerow(fields)\n",
    "\n",
    "    # Construção dos Modelos\n",
    "    for nome, modelo in modelos:\n",
    "        kfold = KFold(n_splits = num_folds, shuffle=True, random_state = seed)\n",
    "        cv_results = cross_val_score(modelo, X, Y, cv = kfold, scoring = 'accuracy')\n",
    "        resultados.append(cv_results)\n",
    "        nomes.append(nome)\n",
    "        msg = \"%s - %s: %f (%f)\" % (nome, modelo, cv_results.mean(), cv_results.std())\n",
    "        print(msg)\n",
    "\n",
    "        # data rows of csv file \n",
    "        rows = [['MinMaxScaler', nome, modelo, cv_results.mean(), cv_results.std() ] ]\n",
    "        write.writerows(rows)\n",
    "    \n",
    "    # Close the file object\n",
    "    f.close()\n"
   ]
  },
  {
   "cell_type": "code",
   "execution_count": 45,
   "id": "7c88d4d7-c757-4fd0-811d-accadd3dbb25",
   "metadata": {},
   "outputs": [
    {
     "data": {
      "image/png": "[encoded data removed]",
      "text/plain": [
       "<Figure size 640x480 with 1 Axes>"
      ]
     },
     "metadata": {},
     "output_type": "display_data"
    }
   ],
   "source": [
    "# Boxplot para comparar os algoritmos\n",
    "fig = plt.figure()\n",
    "fig.suptitle('Comparação de Algoritmos de Classificação')\n",
    "ax = fig.add_subplot(111)\n",
    "plt.boxplot(resultados)\n",
    "ax.set_xticklabels(nomes)\n",
    "\n",
    "plt.savefig(\"graficos/Normalizacao_MinMaxScaler.png\")\n",
    "\n",
    "plt.show()"
   ]
  },
  {
   "cell_type": "code",
   "execution_count": null,
   "id": "efc73474-7741-4c92-9050-3043534c8e90",
   "metadata": {},
   "outputs": [],
   "source": []
  }
 ],
 "metadata": {
  "kernelspec": {
   "display_name": "Python 3 (ipykernel)",
   "language": "python",
   "name": "python3"
  },
  "language_info": {
   "codemirror_mode": {
    "name": "ipython",
    "version": 3
   },
   "file_extension": ".py",
   "mimetype": "text/x-python",
   "name": "python",
   "nbconvert_exporter": "python",
   "pygments_lexer": "ipython3",
   "version": "3.11.4"
  }
 },
 "nbformat": 4,
 "nbformat_minor": 5
}
