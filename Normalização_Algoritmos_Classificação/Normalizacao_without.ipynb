{
 "cells": [
  {
   "cell_type": "code",
   "execution_count": 1,
   "id": "26dac630-eca1-46da-a895-db614b28675e",
   "metadata": {},
   "outputs": [
    {
     "data": {
      "text/plain": [
       "'1.2.2'"
      ]
     },
     "execution_count": 1,
     "metadata": {},
     "output_type": "execute_result"
    }
   ],
   "source": [
    "import sklearn as sl\n",
    "import warnings\n",
    "warnings.filterwarnings(\"ignore\")\n",
    "sl.__version__"
   ]
  },
  {
   "cell_type": "code",
   "execution_count": 2,
   "id": "ba79b609-4cb0-47c4-b975-a54e872c94db",
   "metadata": {},
   "outputs": [],
   "source": [
    "from pandas import read_csv\n",
    "\n",
    "# Carregando os dados\n",
    "arquivo = 'dados/pima-data-banceled.csv'\n",
    "dados = read_csv(arquivo)"
   ]
  },
  {
   "cell_type": "code",
   "execution_count": 3,
   "id": "68084680-dd97-4906-85c5-6619f7706fed",
   "metadata": {},
   "outputs": [
    {
     "data": {
      "text/plain": [
       "class\n",
       "0    268\n",
       "1    268\n",
       "dtype: int64"
      ]
     },
     "execution_count": 3,
     "metadata": {},
     "output_type": "execute_result"
    }
   ],
   "source": [
    "# Distribuição das classes\n",
    "dados.groupby('class').size()"
   ]
  },
  {
   "cell_type": "code",
   "execution_count": 4,
   "id": "3c1aec52-b632-439e-a905-8617a12dca28",
   "metadata": {},
   "outputs": [],
   "source": [
    "# Import dos módulos\n",
    "from pandas import read_csv\n",
    "import matplotlib.pyplot as plt\n",
    "from sklearn.model_selection import KFold\n",
    "from sklearn.model_selection import cross_val_score\n",
    "from sklearn.linear_model import LogisticRegression\n",
    "from sklearn.tree import DecisionTreeClassifier\n",
    "from sklearn.neighbors import KNeighborsClassifier\n",
    "from sklearn.discriminant_analysis import LinearDiscriminantAnalysis\n",
    "from sklearn.ensemble import RandomForestClassifier\n",
    "from sklearn.naive_bayes import GaussianNB\n",
    "from sklearn.svm import SVC\n",
    "import csv"
   ]
  },
  {
   "cell_type": "code",
   "execution_count": 5,
   "id": "e42de752-71e8-44cd-a5d2-5f9a5e659105",
   "metadata": {},
   "outputs": [],
   "source": [
    "# Separando o array em componentes de input e output\n",
    "array = dados.values\n",
    "X = array[:,0:7]\n",
    "Y = array[:,9]"
   ]
  },
  {
   "cell_type": "code",
   "execution_count": 6,
   "id": "084d9d3b-fcc0-4650-8556-4282d3734e12",
   "metadata": {},
   "outputs": [
    {
     "name": "stdout",
     "output_type": "stream",
     "text": [
      "LR - LogisticRegression(): 0.734906 (0.055818)\n",
      "KNN - KNeighborsClassifier(): 0.682809 (0.052930)\n",
      "CART - DecisionTreeClassifier(): 0.647554 (0.083847)\n",
      "SVM - SVC(): 0.714465 (0.057995)\n",
      "RF - RandomForestClassifier(): 0.737142 (0.039773)\n"
     ]
    }
   ],
   "source": [
    "# Definindo os valores para o número de folds\n",
    "num_folds = 10\n",
    "seed = 7\n",
    "\n",
    "# field names \n",
    "fields = ['Tipo','Modelo', 'Descrição Modelo', 'Acurária', 'Desvio'] \n",
    "    \n",
    "# Preparando a lista de modelos\n",
    "modelos = []\n",
    "modelos.append(('LR', LogisticRegression()))\n",
    "modelos.append(('KNN', KNeighborsClassifier()))\n",
    "modelos.append(('CART', DecisionTreeClassifier()))\n",
    "modelos.append(('SVM', SVC()))\n",
    "modelos.append(('RF', RandomForestClassifier(n_estimators=100)))\n",
    "\n",
    "# Avaliando cada modelo em um loop\n",
    "resultados = []\n",
    "nomes = []\n",
    "\n",
    "with open('resultados/resultados.csv', 'a') as f:\n",
    "    # using csv.writer method from CSV package\n",
    "    write = csv.writer(f)\n",
    "    write.writerow(fields)\n",
    "\n",
    "    # Construção dos Modelos\n",
    "    for nome, modelo in modelos:\n",
    "        kfold = KFold(n_splits = num_folds, shuffle=True, random_state = seed)\n",
    "        cv_results = cross_val_score(modelo, X, Y, cv = kfold, scoring = 'accuracy')\n",
    "        resultados.append(cv_results)\n",
    "        nomes.append(nome)\n",
    "        msg = \"%s - %s: %f (%f)\" % (nome, modelo, cv_results.mean(), cv_results.std())\n",
    "        print(msg)\n",
    "\n",
    "        # data rows of csv file \n",
    "        rows = [['without', nome, modelo, cv_results.mean() , cv_results.std()] ]\n",
    "        write.writerows(rows)\n",
    "    \n",
    "    # Close the file object\n",
    "    f.close()"
   ]
  },
  {
   "cell_type": "code",
   "execution_count": 7,
   "id": "7c88d4d7-c757-4fd0-811d-accadd3dbb25",
   "metadata": {},
   "outputs": [
    {
     "data": {
      "image/png": "[encoded data removed]",
      "text/plain": [
       "<Figure size 640x480 with 1 Axes>"
      ]
     },
     "metadata": {},
     "output_type": "display_data"
    }
   ],
   "source": [
    "# Boxplot para comparar os algoritmos\n",
    "fig = plt.figure()\n",
    "fig.suptitle('Comparação de Algoritmos de Classificação')\n",
    "ax = fig.add_subplot(111)\n",
    "plt.boxplot(resultados)\n",
    "ax.set_xticklabels(nomes)\n",
    "\n",
    "plt.savefig(\"graficos/Normalizacao_without.png\")\n",
    "\n",
    "plt.show()"
   ]
  }
 ],
 "metadata": {
  "kernelspec": {
   "display_name": "Python 3 (ipykernel)",
   "language": "python",
   "name": "python3"
  },
  "language_info": {
   "codemirror_mode": {
    "name": "ipython",
    "version": 3
   },
   "file_extension": ".py",
   "mimetype": "text/x-python",
   "name": "python",
   "nbconvert_exporter": "python",
   "pygments_lexer": "ipython3",
   "version": "3.11.4"
  }
 },
 "nbformat": 4,
 "nbformat_minor": 5
}
